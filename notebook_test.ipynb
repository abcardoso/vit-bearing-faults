{
 "cells": [
  {
   "cell_type": "code",
   "execution_count": null,
   "metadata": {},
   "outputs": [],
   "source": [
    "import scipy.io\n",
    "\n",
    "filepath='data/raw/'\n",
    "matfile = scipy.io.loadmat(filepath)\n",
    "print(matfile.keys())"
   ]
  },
  {
   "cell_type": "code",
   "execution_count": 2,
   "metadata": {},
   "outputs": [],
   "source": [
    "import os\n",
    "def find_all_mat_files_in_order(root_dir):   \n",
    "    mat_files = []\n",
    "    for dirpath, _, filenames in sorted(os.walk(root_dir)):\n",
    "        for file in filenames:\n",
    "            if file.endswith('.mat'):\n",
    "                mat_files.append(os.path.join(dirpath, file))\n",
    "    return mat_files"
   ]
  },
  {
   "cell_type": "code",
   "execution_count": 11,
   "metadata": {},
   "outputs": [],
   "source": [
    "import math\n",
    "\n",
    "def load_torque_to_hp(torque_nm, rpm):\n",
    "    power_watts = (2 * math.pi * torque_nm * rpm) / 60\n",
    "    power_hp = power_watts / 745.7\n",
    "    return power_hp\n"
   ]
  },
  {
   "cell_type": "code",
   "execution_count": 27,
   "metadata": {},
   "outputs": [
    {
     "name": "stdout",
     "output_type": "stream",
     "text": [
      "Paderborn,N15_M07_F04_K001_1,N,64000,1500,0.15,400,000,no,6203,healthy\n",
      "Paderborn,N09_M07_F10_K001_6,N,64000,900,0.09,1000,000,no,6203,healthy\n",
      "Paderborn,N15_M07_F10_K001_3,N,64000,1500,0.15,1000,000,no,6203,healthy\n",
      "Paderborn,N15_M07_F04_K001_4,N,64000,1500,0.15,400,000,no,6203,healthy\n",
      "Paderborn,N15_M01_F10_K001_2,N,64000,1500,0.02,1000,000,no,6203,healthy\n",
      "Paderborn,N15_M07_F04_K001_16,N,64000,1500,0.15,400,000,no,6203,healthy\n",
      "Paderborn,N15_M07_F04_K001_19,N,64000,1500,0.15,400,000,no,6203,healthy\n",
      "Paderborn,N15_M01_F10_K001_12,N,64000,1500,0.02,1000,000,no,6203,healthy\n",
      "Paderborn,N15_M07_F10_K001_17,N,64000,1500,0.15,1000,000,no,6203,healthy\n",
      "Paderborn,N09_M07_F10_K001_15,N,64000,900,0.09,1000,000,no,6203,healthy\n",
      "Paderborn,N15_M07_F10_K001_2,N,64000,1500,0.15,1000,000,no,6203,healthy\n",
      "Paderborn,N15_M07_F04_K001_10,N,64000,1500,0.15,400,000,no,6203,healthy\n",
      "Paderborn,N15_M07_F10_K001_12,N,64000,1500,0.15,1000,000,no,6203,healthy\n",
      "Paderborn,N15_M01_F10_K001_19,N,64000,1500,0.02,1000,000,no,6203,healthy\n",
      "Paderborn,N15_M07_F10_K001_8,N,64000,1500,0.15,1000,000,no,6203,healthy\n",
      "Paderborn,N15_M01_F10_K001_4,N,64000,1500,0.02,1000,000,no,6203,healthy\n",
      "Paderborn,N09_M07_F10_K001_8,N,64000,900,0.09,1000,000,no,6203,healthy\n",
      "Paderborn,N09_M07_F10_K001_16,N,64000,900,0.09,1000,000,no,6203,healthy\n",
      "Paderborn,N15_M07_F10_K001_5,N,64000,1500,0.15,1000,000,no,6203,healthy\n",
      "Paderborn,N15_M01_F10_K001_5,N,64000,1500,0.02,1000,000,no,6203,healthy\n",
      "Paderborn,N15_M07_F04_K001_9,N,64000,1500,0.15,400,000,no,6203,healthy\n",
      "Paderborn,N09_M07_F10_K001_17,N,64000,900,0.09,1000,000,no,6203,healthy\n",
      "Paderborn,N09_M07_F10_K001_11,N,64000,900,0.09,1000,000,no,6203,healthy\n",
      "Paderborn,N09_M07_F10_K001_18,N,64000,900,0.09,1000,000,no,6203,healthy\n",
      "Paderborn,N15_M07_F04_K001_8,N,64000,1500,0.15,400,000,no,6203,healthy\n",
      "Paderborn,N15_M07_F04_K001_2,N,64000,1500,0.15,400,000,no,6203,healthy\n",
      "Paderborn,N15_M01_F10_K001_17,N,64000,1500,0.02,1000,000,no,6203,healthy\n",
      "Paderborn,N15_M01_F10_K001_10,N,64000,1500,0.02,1000,000,no,6203,healthy\n",
      "Paderborn,N15_M01_F10_K001_11,N,64000,1500,0.02,1000,000,no,6203,healthy\n",
      "Paderborn,N15_M01_F10_K001_8,N,64000,1500,0.02,1000,000,no,6203,healthy\n",
      "Paderborn,N15_M07_F10_K001_10,N,64000,1500,0.15,1000,000,no,6203,healthy\n",
      "Paderborn,N15_M07_F10_K001_11,N,64000,1500,0.15,1000,000,no,6203,healthy\n",
      "Paderborn,N15_M07_F10_K001_7,N,64000,1500,0.15,1000,000,no,6203,healthy\n",
      "Paderborn,N15_M01_F10_K001_16,N,64000,1500,0.02,1000,000,no,6203,healthy\n",
      "Paderborn,N15_M07_F04_K001_3,N,64000,1500,0.15,400,000,no,6203,healthy\n",
      "Paderborn,N15_M07_F10_K001_15,N,64000,1500,0.15,1000,000,no,6203,healthy\n",
      "Paderborn,N15_M01_F10_K001_9,N,64000,1500,0.02,1000,000,no,6203,healthy\n",
      "Paderborn,N15_M07_F04_K001_7,N,64000,1500,0.15,400,000,no,6203,healthy\n",
      "Paderborn,N15_M07_F04_K001_11,N,64000,1500,0.15,400,000,no,6203,healthy\n",
      "Paderborn,N15_M01_F10_K001_13,N,64000,1500,0.02,1000,000,no,6203,healthy\n",
      "Paderborn,N15_M07_F10_K001_6,N,64000,1500,0.15,1000,000,no,6203,healthy\n",
      "Paderborn,N15_M01_F10_K001_20,N,64000,1500,0.02,1000,000,no,6203,healthy\n",
      "Paderborn,N15_M07_F04_K001_20,N,64000,1500,0.15,400,000,no,6203,healthy\n",
      "Paderborn,N09_M07_F10_K001_2,N,64000,900,0.09,1000,000,no,6203,healthy\n",
      "Paderborn,N15_M07_F10_K001_4,N,64000,1500,0.15,1000,000,no,6203,healthy\n",
      "Paderborn,N09_M07_F10_K001_12,N,64000,900,0.09,1000,000,no,6203,healthy\n",
      "Paderborn,N15_M07_F10_K001_1,N,64000,1500,0.15,1000,000,no,6203,healthy\n",
      "Paderborn,N15_M07_F10_K001_9,N,64000,1500,0.15,1000,000,no,6203,healthy\n",
      "Paderborn,N15_M07_F04_K001_14,N,64000,1500,0.15,400,000,no,6203,healthy\n",
      "Paderborn,N15_M01_F10_K001_6,N,64000,1500,0.02,1000,000,no,6203,healthy\n",
      "Paderborn,N09_M07_F10_K001_7,N,64000,900,0.09,1000,000,no,6203,healthy\n",
      "Paderborn,N15_M01_F10_K001_14,N,64000,1500,0.02,1000,000,no,6203,healthy\n",
      "Paderborn,N09_M07_F10_K001_19,N,64000,900,0.09,1000,000,no,6203,healthy\n",
      "Paderborn,N15_M01_F10_K001_18,N,64000,1500,0.02,1000,000,no,6203,healthy\n",
      "Paderborn,N15_M01_F10_K001_1,N,64000,1500,0.02,1000,000,no,6203,healthy\n",
      "Paderborn,N15_M07_F10_K001_16,N,64000,1500,0.15,1000,000,no,6203,healthy\n",
      "Paderborn,N15_M07_F10_K001_14,N,64000,1500,0.15,1000,000,no,6203,healthy\n",
      "Paderborn,N15_M01_F10_K001_7,N,64000,1500,0.02,1000,000,no,6203,healthy\n",
      "Paderborn,N15_M07_F04_K001_17,N,64000,1500,0.15,400,000,no,6203,healthy\n",
      "Paderborn,N15_M07_F04_K001_12,N,64000,1500,0.15,400,000,no,6203,healthy\n",
      "Paderborn,N15_M01_F10_K001_3,N,64000,1500,0.02,1000,000,no,6203,healthy\n",
      "Paderborn,N15_M07_F04_K001_18,N,64000,1500,0.15,400,000,no,6203,healthy\n",
      "Paderborn,N15_M07_F10_K001_19,N,64000,1500,0.15,1000,000,no,6203,healthy\n",
      "Paderborn,N09_M07_F10_K001_14,N,64000,900,0.09,1000,000,no,6203,healthy\n",
      "Paderborn,N09_M07_F10_K001_3,N,64000,900,0.09,1000,000,no,6203,healthy\n",
      "Paderborn,N09_M07_F10_K001_9,N,64000,900,0.09,1000,000,no,6203,healthy\n",
      "Paderborn,N15_M01_F10_K001_15,N,64000,1500,0.02,1000,000,no,6203,healthy\n",
      "Paderborn,N15_M07_F04_K001_6,N,64000,1500,0.15,400,000,no,6203,healthy\n",
      "Paderborn,N15_M07_F10_K001_13,N,64000,1500,0.15,1000,000,no,6203,healthy\n",
      "Paderborn,N09_M07_F10_K001_4,N,64000,900,0.09,1000,000,no,6203,healthy\n",
      "Paderborn,N15_M07_F04_K001_13,N,64000,1500,0.15,400,000,no,6203,healthy\n",
      "Paderborn,N09_M07_F10_K001_10,N,64000,900,0.09,1000,000,no,6203,healthy\n",
      "Paderborn,N15_M07_F10_K001_20,N,64000,1500,0.15,1000,000,no,6203,healthy\n",
      "Paderborn,N15_M07_F04_K001_15,N,64000,1500,0.15,400,000,no,6203,healthy\n",
      "Paderborn,N15_M07_F04_K001_5,N,64000,1500,0.15,400,000,no,6203,healthy\n",
      "Paderborn,N09_M07_F10_K001_1,N,64000,900,0.09,1000,000,no,6203,healthy\n",
      "Paderborn,N15_M07_F10_K001_18,N,64000,1500,0.15,1000,000,no,6203,healthy\n",
      "Paderborn,N09_M07_F10_K001_20,N,64000,900,0.09,1000,000,no,6203,healthy\n",
      "Paderborn,N09_M07_F10_K001_5,N,64000,900,0.09,1000,000,no,6203,healthy\n",
      "Paderborn,N09_M07_F10_K001_13,N,64000,900,0.09,1000,000,no,6203,healthy\n"
     ]
    }
   ],
   "source": [
    "import os\n",
    "import re\n",
    "\n",
    "dir = 'data/raw/paderborn/K001'\n",
    "\n",
    "list_files = find_all_mat_files_in_order(dir)\n",
    "for file in list_files:\n",
    "    key = re.findall(r'_K[0AI]\\d{2}_', file)[0][2]\n",
    "    dataset_name = 'Paderborn'\n",
    "    filename = os.path.basename(file).split('.')[0]\n",
    "    label = {'0':'N', 'I':'I', 'A':'O'}[key]\n",
    "    sampling_rate = 64000\n",
    "    rpm = {'09':'900', '15':'1500'}[re.findall(r'N(\\d{2})', file)[0]]\n",
    "    load = {'04':'400', '10':'1000'}[re.findall(r'_F(\\d{2})_', file)[0]]\n",
    "    load_torque = re.findall(r'_M(\\d{2})_', file)[0][1]\n",
    "    hp = round(load_torque_to_hp(int(load_torque)*0.1, int(rpm)), 2)\n",
    "    extent_damage = '000'\n",
    "    damage_method = 'no'\n",
    "    bearing_type = 6203\n",
    "    condition_bearing_health = {'0':'healthy', 'A':'faulty', 'I':'faulty'}[key]\n",
    "    print(f'{dataset_name},{filename},{label},{sampling_rate},{rpm},{hp},{load},{extent_damage},{damage_method},{bearing_type},{condition_bearing_health}')"
   ]
  },
  {
   "cell_type": "code",
   "execution_count": 24,
   "metadata": {},
   "outputs": [
    {
     "data": {
      "text/plain": [
       "['123']"
      ]
     },
     "execution_count": 24,
     "metadata": {},
     "output_type": "execute_result"
    }
   ],
   "source": [
    "import re\n",
    "re.findall(r'angelo(\\d{3})', 'adriano123_rocha_angelo123.com')"
   ]
  }
 ],
 "metadata": {
  "kernelspec": {
   "display_name": "env",
   "language": "python",
   "name": "python3"
  },
  "language_info": {
   "codemirror_mode": {
    "name": "ipython",
    "version": 3
   },
   "file_extension": ".py",
   "mimetype": "text/x-python",
   "name": "python",
   "nbconvert_exporter": "python",
   "pygments_lexer": "ipython3",
   "version": "3.8.10"
  }
 },
 "nbformat": 4,
 "nbformat_minor": 2
}
