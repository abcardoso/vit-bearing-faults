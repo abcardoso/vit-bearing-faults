{
 "cells": [
  {
   "cell_type": "code",
   "execution_count": null,
   "metadata": {},
   "outputs": [],
   "source": [
    "import scipy.io\n",
    "\n",
    "matlab_file = scipy.io.loadmat(filepath)\n",
    "bearing_label = os.path.splitext(os.path.split(filename_path)[-1])[0]\n",
    "vibration_data_raw = matlab_file[bearing_label]['Y'][0][0][0][6][2]\n",
    "if acquisition_maxsize:\n",
    "    vibration_data = vibration_data_raw[0][:acquisition_maxsize]\n",
    "else:\n",
    "    vibration_data = vibration_data_raw[0]"
   ]
  }
 ],
 "metadata": {
  "language_info": {
   "name": "python"
  }
 },
 "nbformat": 4,
 "nbformat_minor": 2
}
