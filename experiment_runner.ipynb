{
 "cells": [
  {
   "cell_type": "markdown",
   "metadata": {},
   "source": [
    "Codigo para execução do experimento relacionado ao estudo:\n",
    "Diagnóstico de Falhas em Rolamentos: Aplicação de Vision Transformers na Análise de Espectrogramas\n",
    "\n",
    "Disciplina Reconhecimento de Padrões - 2025\n",
    "Professor Francisco Boldt\n",
    "Aluna Ana Cardoso"
   ]
  },
  {
   "cell_type": "code",
   "execution_count": 5,
   "metadata": {},
   "outputs": [
    {
     "name": "stdout",
     "output_type": "stream",
     "text": [
      "Using device: cuda\n"
     ]
    },
    {
     "data": {
      "application/vnd.jupyter.widget-view+json": {
       "model_id": "7693f7bb122d4acf94fb788546390bb2",
       "version_major": 2,
       "version_minor": 0
      },
      "text/plain": [
       "Dropdown(description='Model:', options=('ViT', 'DeiT', 'DINOv2', 'SwinV2', 'CNN2D', 'ResNet18', 'MAE'), value=…"
      ]
     },
     "metadata": {},
     "output_type": "display_data"
    },
    {
     "data": {
      "application/vnd.jupyter.widget-view+json": {
       "model_id": "fcef24f174574fe580d03aa5848db3ff",
       "version_major": 2,
       "version_minor": 0
      },
      "text/plain": [
       "Checkbox(value=True, description='Pretrain Model')"
      ]
     },
     "metadata": {},
     "output_type": "display_data"
    },
    {
     "data": {
      "application/vnd.jupyter.widget-view+json": {
       "model_id": "d0766f1218e343dfb37b19a712fc8ec3",
       "version_major": 2,
       "version_minor": 0
      },
      "text/plain": [
       "Checkbox(value=False, description='Base Model')"
      ]
     },
     "metadata": {},
     "output_type": "display_data"
    },
    {
     "data": {
      "application/vnd.jupyter.widget-view+json": {
       "model_id": "de9600a676fd49b897baa9ecdf3e81b9",
       "version_major": 2,
       "version_minor": 0
      },
      "text/plain": [
       "Checkbox(value=True, description='Perform K-Fold')"
      ]
     },
     "metadata": {},
     "output_type": "display_data"
    },
    {
     "data": {
      "application/vnd.jupyter.widget-view+json": {
       "model_id": "23d36bd77e1548568ad31c52d610b726",
       "version_major": 2,
       "version_minor": 0
      },
      "text/plain": [
       "SelectMultiple(description='First Datasets', index=(0,), options=('CWRU', 'UORED'), value=('CWRU',))"
      ]
     },
     "metadata": {},
     "output_type": "display_data"
    },
    {
     "data": {
      "application/vnd.jupyter.widget-view+json": {
       "model_id": "d6213d4fd1ea4dd480f3be31ce55fa42",
       "version_major": 2,
       "version_minor": 0
      },
      "text/plain": [
       "SelectMultiple(description='Target Datasets', index=(1,), options=('CWRU', 'UORED'), value=('UORED',))"
      ]
     },
     "metadata": {},
     "output_type": "display_data"
    },
    {
     "data": {
      "application/vnd.jupyter.widget-view+json": {
       "model_id": "ee6c870f3d7849699fb8226bc844db71",
       "version_major": 2,
       "version_minor": 0
      },
      "text/plain": [
       "IntSlider(value=20, description='Epochs:', max=50, min=5, step=5)"
      ]
     },
     "metadata": {},
     "output_type": "display_data"
    },
    {
     "data": {
      "application/vnd.jupyter.widget-view+json": {
       "model_id": "4012db5c5e7b4503b393b57ce2bdc46b",
       "version_major": 2,
       "version_minor": 0
      },
      "text/plain": [
       "FloatLogSlider(value=5e-05, description='LR:', max=-3.0, min=-6.0, step=0.5)"
      ]
     },
     "metadata": {},
     "output_type": "display_data"
    },
    {
     "data": {
      "application/vnd.jupyter.widget-view+json": {
       "model_id": "8726c9dbc28745ae8462af9f89542b0c",
       "version_major": 2,
       "version_minor": 0
      },
      "text/plain": [
       "IntSlider(value=32, description='Batch Size:', max=64, min=8, step=8)"
      ]
     },
     "metadata": {},
     "output_type": "display_data"
    },
    {
     "data": {
      "application/vnd.jupyter.widget-view+json": {
       "model_id": "748990849492420abdc422165b75a81a",
       "version_major": 2,
       "version_minor": 0
      },
      "text/plain": [
       "Button(description='Run Experiment', style=ButtonStyle())"
      ]
     },
     "metadata": {},
     "output_type": "display_data"
    }
   ],
   "source": [
    "import torch\n",
    "import os\n",
    "import ipywidgets as widgets\n",
    "from IPython.display import display\n",
    "from experimenter_vitclassifier_kfold import experimenter_classifier \n",
    "\n",
    "# Ensure CUDA is available\n",
    "device = \"cuda\" if torch.cuda.is_available() else \"cpu\"\n",
    "print(f\"Using device: {device}\")\n",
    "\n",
    "# Define model choices\n",
    "model_options = [\"ViT\", \"DeiT\", \"DINOv2\", \"SwinV2\", \"CNN2D\", \"ResNet18\", \"MAE\"]\n",
    "\n",
    "# Create interactive widgets\n",
    "model_dropdown = widgets.Dropdown(options=model_options, description=\"Model:\")\n",
    "pretrain_toggle = widgets.Checkbox(value=True, description=\"Pretrain Model\")\n",
    "base_model_toggle = widgets.Checkbox(value=False, description=\"Base Model\")\n",
    "perform_kfold_toggle = widgets.Checkbox(value=True, description=\"Perform K-Fold\")\n",
    "\n",
    "# Dataset selection\n",
    "first_datasets = widgets.SelectMultiple(\n",
    "    options=[\"CWRU\", \"UORED\"],\n",
    "    value=[\"CWRU\"],\n",
    "    description=\"First Datasets\"\n",
    ")\n",
    "target_datasets = widgets.SelectMultiple(\n",
    "    options=[\"CWRU\", \"UORED\"],\n",
    "    value=[\"UORED\"],\n",
    "    description=\"Target Datasets\"\n",
    ")\n",
    "\n",
    "# Hyperparameter settings\n",
    "epochs_slider = widgets.IntSlider(value=20, min=5, max=50, step=5, description=\"Epochs:\")\n",
    "lr_slider = widgets.FloatLogSlider(value=5e-5, min=-6, max=-3, step=0.5, description=\"LR:\")\n",
    "batch_size_slider = widgets.IntSlider(value=32, min=8, max=64, step=8, description=\"Batch Size:\")\n",
    "\n",
    "# Start Experiment Button\n",
    "run_button = widgets.Button(description=\"Run Experiment\")\n",
    "\n",
    "# Callback Function to Start Experiment\n",
    "def run_experiment(b):\n",
    "    print(\"\\nStarting Experiment...\")\n",
    "    experimenter_classifier(\n",
    "        model_type=model_dropdown.value,\n",
    "        pretrain_model=pretrain_toggle.value,\n",
    "        base_model=base_model_toggle.value,\n",
    "        num_classes=4,\n",
    "        num_epochs=epochs_slider.value,\n",
    "        lr=lr_slider.value,\n",
    "        num_epochs_kf=10,\n",
    "        lr_kf=lr_slider.value,\n",
    "        batch_size=batch_size_slider.value,\n",
    "        root_dir=\"data/spectrograms\",\n",
    "        first_datasets_name=list(first_datasets.value),\n",
    "        target_datasets_name=list(target_datasets.value),\n",
    "        perform_kfold=perform_kfold_toggle.value,\n",
    "        mode=\"supervised\"\n",
    "    )\n",
    "    print(\"\\nExperiment Completed!\")\n",
    "\n",
    "# Bind Button Click Event\n",
    "run_button.on_click(run_experiment)\n",
    "\n",
    "# Display Interactive Controls\n",
    "display(model_dropdown, pretrain_toggle, base_model_toggle, perform_kfold_toggle)\n",
    "display(first_datasets, target_datasets)\n",
    "display(epochs_slider, lr_slider, batch_size_slider)\n",
    "display(run_button)\n"
   ]
  }
 ],
 "metadata": {
  "kernelspec": {
   "display_name": "deepseek_env",
   "language": "python",
   "name": "python3"
  },
  "language_info": {
   "codemirror_mode": {
    "name": "ipython",
    "version": 3
   },
   "file_extension": ".py",
   "mimetype": "text/x-python",
   "name": "python",
   "nbconvert_exporter": "python",
   "pygments_lexer": "ipython3",
   "version": "3.10.16"
  }
 },
 "nbformat": 4,
 "nbformat_minor": 2
}
