{
 "cells": [
  {
   "cell_type": "markdown",
   "metadata": {},
   "source": [
    "Codigo para execução do experimento relacionado ao estudo:\n",
    "Diagnóstico de Falhas em Rolamentos: Aplicação de Vision Transformers na Análise de Espectrogramas\n",
    "\n",
    "Disciplina Reconhecimento de Padrões - 2025\n",
    "Professor Francisco Boldt\n",
    "Aluna Ana Cardoso"
   ]
  },
  {
   "cell_type": "code",
   "execution_count": 9,
   "metadata": {},
   "outputs": [
    {
     "name": "stdout",
     "output_type": "stream",
     "text": [
      "Using device: cuda\n"
     ]
    },
    {
     "data": {
      "application/vnd.jupyter.widget-view+json": {
       "model_id": "07d26118af7543cf9eb2bc8f353fc248",
       "version_major": 2,
       "version_minor": 0
      },
      "text/plain": [
       "Dropdown(description='Model:', options=('ViT', 'DeiT', 'DINOv2', 'SwinV2', 'CNN2D', 'ResNet18', 'MAE'), value=…"
      ]
     },
     "metadata": {},
     "output_type": "display_data"
    },
    {
     "data": {
      "application/vnd.jupyter.widget-view+json": {
       "model_id": "8b3afa4facd445fe9135e3a78ad9317c",
       "version_major": 2,
       "version_minor": 0
      },
      "text/plain": [
       "Checkbox(value=True, description='Pretrain Model')"
      ]
     },
     "metadata": {},
     "output_type": "display_data"
    },
    {
     "data": {
      "application/vnd.jupyter.widget-view+json": {
       "model_id": "d6677e8e33104a00b242684a7179781c",
       "version_major": 2,
       "version_minor": 0
      },
      "text/plain": [
       "Checkbox(value=False, description='Base Model')"
      ]
     },
     "metadata": {},
     "output_type": "display_data"
    },
    {
     "data": {
      "application/vnd.jupyter.widget-view+json": {
       "model_id": "e2192b32146247ab972344c5d0a21a17",
       "version_major": 2,
       "version_minor": 0
      },
      "text/plain": [
       "Checkbox(value=True, description='Perform K-Fold')"
      ]
     },
     "metadata": {},
     "output_type": "display_data"
    },
    {
     "data": {
      "application/vnd.jupyter.widget-view+json": {
       "model_id": "949c06d4b21040bcb976b07db51bd408",
       "version_major": 2,
       "version_minor": 0
      },
      "text/plain": [
       "SelectMultiple(description='First Datasets', index=(0,), options=('CWRU', 'UORED'), value=('CWRU',))"
      ]
     },
     "metadata": {},
     "output_type": "display_data"
    },
    {
     "data": {
      "application/vnd.jupyter.widget-view+json": {
       "model_id": "516fe88f33ef42b681fb2de14564ca76",
       "version_major": 2,
       "version_minor": 0
      },
      "text/plain": [
       "SelectMultiple(description='Target Datasets', index=(1,), options=('CWRU', 'UORED'), value=('UORED',))"
      ]
     },
     "metadata": {},
     "output_type": "display_data"
    },
    {
     "data": {
      "application/vnd.jupyter.widget-view+json": {
       "model_id": "c25ed9985e25431cb623d6a6dc8d2d9a",
       "version_major": 2,
       "version_minor": 0
      },
      "text/plain": [
       "IntSlider(value=20, description='Epochs:', max=50, min=5, step=5)"
      ]
     },
     "metadata": {},
     "output_type": "display_data"
    },
    {
     "data": {
      "application/vnd.jupyter.widget-view+json": {
       "model_id": "b5a41db8078748f6a7f07572a1914855",
       "version_major": 2,
       "version_minor": 0
      },
      "text/plain": [
       "FloatLogSlider(value=5e-05, description='LR:', max=-3.0, min=-6.0, step=0.5)"
      ]
     },
     "metadata": {},
     "output_type": "display_data"
    },
    {
     "data": {
      "application/vnd.jupyter.widget-view+json": {
       "model_id": "b277d169651c479d8b669c57e7c13d88",
       "version_major": 2,
       "version_minor": 0
      },
      "text/plain": [
       "IntSlider(value=32, description='Batch Size:', max=64, min=8, step=8)"
      ]
     },
     "metadata": {},
     "output_type": "display_data"
    },
    {
     "data": {
      "application/vnd.jupyter.widget-view+json": {
       "model_id": "40d47938fac547cb89cd3ea37ae355a5",
       "version_major": 2,
       "version_minor": 0
      },
      "text/plain": [
       "Button(description='Run Experiment', style=ButtonStyle())"
      ]
     },
     "metadata": {},
     "output_type": "display_data"
    }
   ],
   "source": [
    "import torch\n",
    "import os\n",
    "import ipywidgets as widgets\n",
    "from IPython.display import display\n",
    "from experimenter_vitclassifier_kfold import experimenter_classifier \n",
    "\n",
    "# Ensure CUDA is available\n",
    "device = \"cuda\" if torch.cuda.is_available() else \"cpu\"\n",
    "print(f\"Using device: {device}\")\n",
    "\n",
    "# Define model choices\n",
    "model_options = [\"ViT\", \"DeiT\", \"DINOv2\", \"SwinV2\", \"CNN2D\", \"ResNet18\", \"MAE\"]\n",
    "\n",
    "# Create interactive widgets\n",
    "model_dropdown = widgets.Dropdown(options=model_options, description=\"Model:\")\n",
    "pretrain_toggle = widgets.Checkbox(value=True, description=\"Pretrain Model\")\n",
    "base_model_toggle = widgets.Checkbox(value=False, description=\"Base Model\")\n",
    "perform_kfold_toggle = widgets.Checkbox(value=True, description=\"Perform K-Fold\")\n",
    "\n",
    "# Dataset selection\n",
    "first_datasets = widgets.SelectMultiple(\n",
    "    options=[\"CWRU\", \"UORED\"],\n",
    "    value=[\"CWRU\"],\n",
    "    description=\"First Datasets\"\n",
    ")\n",
    "target_datasets = widgets.SelectMultiple(\n",
    "    options=[\"CWRU\", \"UORED\"],\n",
    "    value=[\"UORED\"],\n",
    "    description=\"Target Datasets\"\n",
    ")\n",
    "\n",
    "# Hyperparameter settings\n",
    "epochs_slider = widgets.IntSlider(value=20, min=5, max=50, step=5, description=\"Epochs:\")\n",
    "lr_slider = widgets.FloatLogSlider(value=5e-5, min=-6, max=-3, step=0.5, description=\"LR:\")\n",
    "batch_size_slider = widgets.IntSlider(value=32, min=8, max=64, step=8, description=\"Batch Size:\")\n",
    "\n",
    "# Start Experiment Button\n",
    "run_button = widgets.Button(description=\"Run Experiment\")\n",
    "\n",
    "# Callback Function to Start Experiment\n",
    "def run_experiment(b):\n",
    "    print(\"\\nStarting Experiment...\")\n",
    "    experimenter_classifier(\n",
    "        model_type=model_dropdown.value,\n",
    "        pretrain_model=pretrain_toggle.value,\n",
    "        base_model=base_model_toggle.value,\n",
    "        num_classes=4,\n",
    "        num_epochs=epochs_slider.value,\n",
    "        lr=lr_slider.value,\n",
    "        num_epochs_kf=10,\n",
    "        lr_kf=lr_slider.value,\n",
    "        batch_size=batch_size_slider.value,\n",
    "        root_dir=\"data/spectrograms\",\n",
    "        first_datasets_name=list(first_datasets.value),\n",
    "        target_datasets_name=list(target_datasets.value),\n",
    "        perform_kfold=perform_kfold_toggle.value,\n",
    "        mode=\"supervised\"\n",
    "    )\n",
    "    print(\"\\nExperiment Completed!\")\n",
    "\n",
    "# Bind Button Click Event\n",
    "run_button.on_click(run_experiment)\n",
    "\n",
    "# Display Interactive Controls\n",
    "display(model_dropdown, pretrain_toggle, base_model_toggle, perform_kfold_toggle)\n",
    "display(first_datasets, target_datasets)\n",
    "display(epochs_slider, lr_slider, batch_size_slider)\n",
    "display(run_button)\n"
   ]
  }
 ],
 "metadata": {
  "kernelspec": {
   "display_name": "deepseek_env",
   "language": "python",
   "name": "python3"
  },
  "language_info": {
   "codemirror_mode": {
    "name": "ipython",
    "version": 3
   },
   "file_extension": ".py",
   "mimetype": "text/x-python",
   "name": "python",
   "nbconvert_exporter": "python",
   "pygments_lexer": "ipython3",
   "version": "3.10.16"
  }
 },
 "nbformat": 4,
 "nbformat_minor": 2
}
